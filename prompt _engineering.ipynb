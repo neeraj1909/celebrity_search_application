{
 "cells": [
  {
   "cell_type": "markdown",
   "metadata": {},
   "source": [
    "#### Prompt-Engineering LangChain"
   ]
  },
  {
   "cell_type": "code",
   "execution_count": 1,
   "metadata": {},
   "outputs": [],
   "source": [
    "import os\n",
    "from constants import openai_key\n",
    "\n",
    "os.environ[\"OPENAI_API_KEY\"] = openai_key"
   ]
  },
  {
   "cell_type": "code",
   "execution_count": 5,
   "metadata": {},
   "outputs": [
    {
     "data": {
      "text/plain": [
       "'I want you to act as a acting financial advisor for people. In an easy way, explain the basics of income tax.'"
      ]
     },
     "execution_count": 5,
     "metadata": {},
     "output_type": "execute_result"
    }
   ],
   "source": [
    "from langchain import PromptTemplate\n",
    "\n",
    "demo_template='''I want you to act as a acting financial advisor for people. In an easy way, explain the basics of {financial_concept}.'''\n",
    "\n",
    "prompt = PromptTemplate(\n",
    "    input_variables=['financial_concept'],\n",
    "    template=demo_template,\n",
    "    )\n",
    "\n",
    "prompt.format(financial_concept='income tax')"
   ]
  },
  {
   "cell_type": "code",
   "execution_count": 7,
   "metadata": {},
   "outputs": [
    {
     "data": {
      "text/plain": [
       "\"\\n\\nSure! As a financial advisor, one of my main roles is to help people understand and manage their income taxes. Income tax is a type of tax that is paid on the money you earn from various sources, such as your job, investments, or rental properties.\\n\\nThe amount of income tax you owe is based on your total income for the year, minus any deductions or credits you may be eligible for. This is known as your taxable income. The government sets different tax rates for different income levels, so the more you earn, the higher your tax rate will be.\\n\\nMost people pay their income taxes through regular paycheck deductions, where a certain percentage of their income is taken out before they even receive it. This is known as withholding. However, you may still need to file a tax return at the end of the year to report any additional income or claim any deductions or credits.\\n\\nSome common deductions that can reduce your taxable income include contributions to retirement accounts, mortgage interest, and charitable donations. Credits, on the other hand, directly reduce the amount of tax you owe. Examples of tax credits include the child tax credit, education credits, and the earned income tax credit.\\n\\nIt's important to keep track of your income and any potential deductions throughout the year so that you can accurately\""
      ]
     },
     "execution_count": 7,
     "metadata": {},
     "output_type": "execute_result"
    }
   ],
   "source": [
    "from langchain.llms import OpenAI\n",
    "from langchain.chains import LLMChain\n",
    "\n",
    "llm = OpenAI(temperature=0.7)\n",
    "chain1 = LLMChain(llm=llm, prompt=prompt)\n",
    "chain1.run('income tax')"
   ]
  },
  {
   "cell_type": "code",
   "execution_count": 8,
   "metadata": {},
   "outputs": [
    {
     "data": {
      "text/plain": [
       "\"\\n\\nSure, I'd be happy to help! Income tax is a percentage of your income that is paid to the government. It is used to fund various government programs and services such as education, healthcare, and infrastructure.\\n\\nThere are different types of income that are subject to taxation, such as wages, salaries, bonuses, tips, and investment income. The amount of income tax you pay is based on your total taxable income, which is your total income minus any deductions or exemptions.\\n\\nThe government uses a progressive tax system, which means that the more money you earn, the higher percentage of tax you will pay. This is because the government believes that those who earn more can afford to contribute more in taxes.\\n\\nTo determine how much income tax you owe, you will need to file an income tax return with the government. This is usually done annually and the deadline varies depending on your country's tax laws.\\n\\nIt's important to note that not all income is subject to taxation. For example, some types of income, such as gifts, inheritances, and certain types of investment income, may be exempt from income tax.\\n\\nIf you are an employee, your employer will typically withhold a portion of your paycheck to cover your income tax liability. This is known as withholding tax. Your employer will\""
      ]
     },
     "execution_count": 8,
     "metadata": {},
     "output_type": "execute_result"
    }
   ],
   "source": [
    "chain1.run('income tax')"
   ]
  },
  {
   "cell_type": "code",
   "execution_count": 9,
   "metadata": {},
   "outputs": [
    {
     "data": {
      "text/plain": [
       "\"\\n\\nSure, as an acting financial advisor, it's important for people to understand the basics of GDP. GDP stands for Gross Domestic Product, and it is a measure of the total economic output of a country. It represents the monetary value of all the goods and services produced within a country's borders in a specific time period, usually a year.\\n\\nSo, think of GDP as the size of a country's economy. It includes everything from the production of goods like cars and clothes, to services like healthcare and education. It also takes into account the value of imports and exports.\\n\\nGDP is an important indicator of a country's economic health and growth. When GDP is increasing, it means the economy is growing and businesses are producing more goods and services. This can lead to job creation, higher wages, and overall improvement in living standards.\\n\\nOn the other hand, when GDP is decreasing, it can indicate a slowdown in the economy and a potential recession. This can lead to businesses cutting back on production, job losses, and a decrease in consumer spending.\\n\\nIt's important to note that GDP does not measure the distribution of wealth within a country, so it doesn't necessarily reflect the well-being of all citizens. For example, a country with a high GDP may still have a large wealth\""
      ]
     },
     "execution_count": 9,
     "metadata": {},
     "output_type": "execute_result"
    }
   ],
   "source": [
    "chain1.run('GDP')"
   ]
  },
  {
   "cell_type": "code",
   "execution_count": 10,
   "metadata": {},
   "outputs": [
    {
     "data": {
      "text/plain": [
       "\"In an easy way translate the following sentence 'Hello, how are you?' into French\""
      ]
     },
     "execution_count": 10,
     "metadata": {},
     "output_type": "execute_result"
    }
   ],
   "source": [
    "## Language Translation\n",
    "\n",
    "from langchain import PromptTemplate\n",
    "\n",
    "template = '''In an easy way translate the following sentence '{sentence}' into {target_language}'''\n",
    "\n",
    "language_prompt = PromptTemplate(\n",
    "    input_variables=['sentence', 'target_language'],\n",
    "    template=template,\n",
    "    )\n",
    "\n",
    "language_prompt.format(sentence='Hello, how are you?', target_language='French')"
   ]
  },
  {
   "cell_type": "code",
   "execution_count": 11,
   "metadata": {},
   "outputs": [
    {
     "name": "stderr",
     "output_type": "stream",
     "text": [
      "/tmp/ipykernel_27189/3517665100.py:3: LangChainDeprecationWarning: The method `Chain.__call__` was deprecated in langchain 0.1.0 and will be removed in 1.0. Use :meth:`~invoke` instead.\n",
      "  chain2({'sentence': \"Hello How are you\", 'target_language': 'Hindi'})\n"
     ]
    },
    {
     "data": {
      "text/plain": [
       "{'sentence': 'Hello How are you',\n",
       " 'target_language': 'Hindi',\n",
       " 'text': '\\n\\nनमस्ते आप कैसे हो'}"
      ]
     },
     "execution_count": 11,
     "metadata": {},
     "output_type": "execute_result"
    }
   ],
   "source": [
    "chain2 = LLMChain(llm=llm, prompt=language_prompt)\n",
    "\n",
    "chain2({'sentence': \"Hello How are you\", 'target_language': 'Hindi'})"
   ]
  },
  {
   "cell_type": "code",
   "execution_count": 12,
   "metadata": {},
   "outputs": [
    {
     "data": {
      "text/plain": [
       "{'sentence': 'Hello How are you',\n",
       " 'target_language': 'Kannada',\n",
       " 'text': '\\n\\nಹಲೋ ನೀವು ಹೇಗಿದ್ದೀರಿ? (halō nīvu hēgiddīri?)'}"
      ]
     },
     "execution_count": 12,
     "metadata": {},
     "output_type": "execute_result"
    }
   ],
   "source": [
    "chain2({'sentence': \"Hello How are you\", 'target_language': 'Kannada'})"
   ]
  },
  {
   "cell_type": "code",
   "execution_count": null,
   "metadata": {},
   "outputs": [],
   "source": []
  },
  {
   "cell_type": "markdown",
   "metadata": {},
   "source": [
    "#### Few-Shot Prompt Template"
   ]
  },
  {
   "cell_type": "code",
   "execution_count": 13,
   "metadata": {},
   "outputs": [],
   "source": [
    "from langchain import FewShotPromptTemplate"
   ]
  },
  {
   "cell_type": "code",
   "execution_count": 14,
   "metadata": {},
   "outputs": [],
   "source": [
    "# First, crate the list of few shot examples.\n",
    "\n",
    "examples = [\n",
    "    {\"word\": \"happy\", \"antonym\": \"sad\"},\n",
    "    {\"word\": \"tall\", \"antonym\": \"short\"},\n",
    "]\n",
    "\n",
    "# Next, we specify the template to format the examples we have provided.\n",
    "# We, use the `PromptTemplate` class for this.\n",
    "example_formatter_template = \"\"\"\n",
    "    Word: {word}\n",
    "    Antonym: {antonym}\n",
    "\"\"\"\n",
    "\n",
    "example_prompt = PromptTemplate(\n",
    "    input_variables=['word', 'antonym'],\n",
    "    template=example_formatter_template,\n",
    ")"
   ]
  },
  {
   "cell_type": "code",
   "execution_count": 15,
   "metadata": {},
   "outputs": [],
   "source": [
    "# Finally, we create the `FewShotPromptTemplate` object.\n",
    "few_shot_prompt = FewShotPromptTemplate(\n",
    "    # These are the examples we want to insert into the prompt.\n",
    "    examples=examples,\n",
    "    # This is how we want to format the examples when we insert them into the prompt.\n",
    "    example_prompt=example_prompt,\n",
    "    # The prefix is some text that goes before the examples in the prompt.\n",
    "    # Usually, this consists of instructions.\n",
    "    prefix=\"Give the antonym of every input\\n\",\n",
    "    # The suffix is some text that goes after the examples in the prompt.\n",
    "    # Usually, this is where the user input will go\n",
    "    suffix=\"Word: {input}\\nAntonym: \",\n",
    "    # The input variables are the variables that the overall prompt excepts.\n",
    "    input_variables=['input'],\n",
    "    # The example_separator is the string we will use to join the prefix, examples, and suffix together.\n",
    "    example_separator=\"\\n\",\n",
    ")"
   ]
  },
  {
   "cell_type": "code",
   "execution_count": 16,
   "metadata": {},
   "outputs": [
    {
     "name": "stdout",
     "output_type": "stream",
     "text": [
      "Give the antonym of every input\n",
      "\n",
      "\n",
      "    Word: happy\n",
      "    Antonym: sad\n",
      "\n",
      "\n",
      "    Word: tall\n",
      "    Antonym: short\n",
      "\n",
      "Word: big\n",
      "Antonym: \n"
     ]
    }
   ],
   "source": [
    "print(few_shot_prompt.format(input='big'))"
   ]
  },
  {
   "cell_type": "code",
   "execution_count": 17,
   "metadata": {},
   "outputs": [
    {
     "data": {
      "text/plain": [
       "{'input': 'big', 'text': 'small'}"
      ]
     },
     "execution_count": 17,
     "metadata": {},
     "output_type": "execute_result"
    }
   ],
   "source": [
    "chain = LLMChain(llm=llm, prompt=few_shot_prompt)\n",
    "chain({'input': 'big'})"
   ]
  },
  {
   "cell_type": "code",
   "execution_count": null,
   "metadata": {},
   "outputs": [],
   "source": []
  }
 ],
 "metadata": {
  "kernelspec": {
   "display_name": "venv",
   "language": "python",
   "name": "python3"
  },
  "language_info": {
   "codemirror_mode": {
    "name": "ipython",
    "version": 3
   },
   "file_extension": ".py",
   "mimetype": "text/x-python",
   "name": "python",
   "nbconvert_exporter": "python",
   "pygments_lexer": "ipython3",
   "version": "3.12.3"
  }
 },
 "nbformat": 4,
 "nbformat_minor": 2
}
